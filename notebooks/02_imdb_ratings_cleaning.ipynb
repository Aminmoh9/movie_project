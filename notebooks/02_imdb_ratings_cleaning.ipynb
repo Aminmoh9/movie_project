{
 "cells": [
  {
   "cell_type": "code",
   "execution_count": null,
   "metadata": {},
   "outputs": [
    {
     "name": "stdout",
     "output_type": "stream",
     "text": [
      " Saved cleaned ratings (1209144 records)\n",
      " Saved filtered ratings (4862 records)\n"
     ]
    }
   ],
   "source": [
    "import pandas as pd\n",
    "import os\n",
    "\n",
    "def clean_ratings():\n",
    "    # Load raw data\n",
    "    ratings = pd.read_csv(\n",
    "        \"raw_data/title.ratings.tsv\", \n",
    "        sep='\\t',\n",
    "        dtype={'tconst': str, 'averageRating': float, 'numVotes': int}\n",
    "    )\n",
    "    \n",
    "    # Filter valid ratings\n",
    "    ratings = ratings[\n",
    "        (ratings['averageRating'].between(1, 10)) & \n",
    "        (ratings['numVotes'] > 10)  # Minimum vote threshold\n",
    "    ]\n",
    "    \n",
    "    # Standardize column names\n",
    "    ratings = ratings.rename(columns={\n",
    "        'tconst': 'imdb_id',          \n",
    "        'averageRating': 'avg_rating',    \n",
    "        'numVotes': 'vote_count'    \n",
    "    })\n",
    "    \n",
    "    # Select and order columns\n",
    "    ratings = ratings[['imdb_id', 'avg_rating', 'vote_count']]\n",
    "    \n",
    "    # Ensure the directory exists\n",
    "    os.makedirs(\"data/cleaned\", exist_ok=True)\n",
    "    \n",
    "    # Save cleaned data\n",
    "    ratings.to_csv(\"data/cleaned/ratings_clean.csv\", index=False)\n",
    "    print(f\" Saved cleaned ratings ({len(ratings)} records)\")\n",
    "    \n",
    "    # Load films dataset\n",
    "    films = pd.read_csv(\"datasets/films.csv\")  \n",
    "    \n",
    "    # Filter ratings to match films dataset\n",
    "    filtered_ratings = ratings[ratings['imdb_id'].isin(films['imdb_id'])]  \n",
    "    \n",
    "    # Save filtered data\n",
    "    filtered_ratings.to_csv(\"data/cleaned/filtered_ratings.csv\", index=False) \n",
    "    print(f\" Saved filtered ratings ({len(filtered_ratings)} records)\")  \n",
    "\n",
    "clean_ratings()\n"
   ]
  }
 ],
 "metadata": {
  "kernelspec": {
   "display_name": "base",
   "language": "python",
   "name": "python3"
  },
  "language_info": {
   "codemirror_mode": {
    "name": "ipython",
    "version": 3
   },
   "file_extension": ".py",
   "mimetype": "text/x-python",
   "name": "python",
   "nbconvert_exporter": "python",
   "pygments_lexer": "ipython3",
   "version": "3.12.7"
  }
 },
 "nbformat": 4,
 "nbformat_minor": 2
}
